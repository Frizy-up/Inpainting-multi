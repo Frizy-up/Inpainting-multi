{
 "cells": [
  {
   "cell_type": "code",
   "execution_count": 20,
   "metadata": {},
   "outputs": [],
   "source": [
    "import os\n",
    "from glob import glob\n",
    "import pandas as pd\n",
    "import numpy as np\n",
    "import cv2\n",
    "from model import *\n",
    "from util import *"
   ]
  },
  {
   "cell_type": "code",
   "execution_count": 21,
   "metadata": {
    "collapsed": true
   },
   "outputs": [],
   "source": [
    "n_epochs = 10000\n",
    "learning_rate_val = 0.002\n",
    "weight_decay_rate =  0.00001\n",
    "momentum = 0.9\n",
    "batch_size = 100\n",
    "lambda_recon = 0.999\n",
    "lambda_adv = 0.001"
   ]
  },
  {
   "cell_type": "code",
   "execution_count": 22,
   "metadata": {
    "collapsed": true
   },
   "outputs": [],
   "source": [
    "trainset_path = '../data/paris_trainset.pickle'\n",
    "testset_path  = '../data/paris_testset.pickle'\n",
    "# dataset_path = '/media/storage3/Study/data/Paris/'\n",
    "dataset_path = '/home/lab/PycharmProjects/Inpainting/DataSet/Paris/'\n",
    "model_path = '../models/Paris2/'\n",
    "result_path= '../results/Paris2/'\n",
    "pretrained_model_path = None# '../models/Paris/model-0'"
   ]
  },
  {
   "cell_type": "code",
   "execution_count": 23,
   "metadata": {
    "collapsed": true
   },
   "outputs": [],
   "source": [
    "if not os.path.exists(model_path):\n",
    "    os.makedirs( model_path )"
   ]
  },
  {
   "cell_type": "code",
   "execution_count": 24,
   "metadata": {
    "collapsed": true
   },
   "outputs": [],
   "source": [
    "if not os.path.exists(result_path):\n",
    "    os.makedirs( result_path )"
   ]
  },
  {
   "cell_type": "code",
   "execution_count": 33,
   "metadata": {},
   "outputs": [],
   "source": [
    "if not os.path.exists( trainset_path ) or not os.path.exists( testset_path ):\n",
    "    print 'coming...'\n",
    "    trainset_dir = os.path.join( dataset_path, 'paris_train_original' )\n",
    "    testset_dir = os.path.join( dataset_path, 'paris_eval_gt' )\n",
    "    trainset = pd.DataFrame({'image_path': map(lambda x: os.path.join( trainset_dir, x ), os.listdir(trainset_dir))})\n",
    "    print trainset\n",
    "    testset = pd.DataFrame({'image_path': map(lambda x: os.path.join( testset_dir, x ), os.listdir(testset_dir))})\n",
    "    print testset\n",
    "    \n",
    "    trainset.to_pickle( trainset_path )\n",
    "    testset.to_pickle( testset_path )\n",
    "else:\n",
    "    trainset = pd.read_pickle( trainset_path )\n",
    "    testset = pd.read_pickle( testset_path )"
   ]
  },
  {
   "cell_type": "code",
   "execution_count": 34,
   "metadata": {},
   "outputs": [
    {
     "name": "stdout",
     "output_type": "stream",
     "text": [
      "Int64Index([ 0,  1,  2,  3,  4,  5,  6,  7,  8,  9, 10, 11, 12, 13, 14, 15, 16,\n",
      "            17, 18, 19, 20, 21, 22, 23, 24, 25, 26, 27, 28, 29, 30, 31, 32, 33,\n",
      "            34, 35, 36, 37, 38, 39, 40, 41, 42, 43, 44, 45, 46, 47, 48, 49, 50,\n",
      "            51, 52, 53, 54, 55, 56, 57, 58, 59, 60, 61, 62, 63, 64, 65, 66, 67,\n",
      "            68, 69, 70, 71, 72, 73, 74, 75, 76, 77, 78, 79, 80, 81, 82, 83, 84,\n",
      "            85, 86, 87, 88, 89, 90, 91, 92, 93, 94, 95, 96, 97, 98, 99],\n",
      "           dtype='int64')\n"
     ]
    }
   ],
   "source": [
    "testset.index = range(len(testset))\n",
    "print testset.index"
   ]
  },
  {
   "cell_type": "code",
   "execution_count": 35,
   "metadata": {
    "scrolled": true
   },
   "outputs": [
    {
     "name": "stdout",
     "output_type": "stream",
     "text": [
      "                                           image_path\n",
      "73  /home/lab/PycharmProjects/Inpainting/DataSet/P...\n",
      "94  /home/lab/PycharmProjects/Inpainting/DataSet/P...\n",
      "93  /home/lab/PycharmProjects/Inpainting/DataSet/P...\n",
      "10  /home/lab/PycharmProjects/Inpainting/DataSet/P...\n",
      "98  /home/lab/PycharmProjects/Inpainting/DataSet/P...\n",
      "26  /home/lab/PycharmProjects/Inpainting/DataSet/P...\n",
      "88  /home/lab/PycharmProjects/Inpainting/DataSet/P...\n",
      "2   /home/lab/PycharmProjects/Inpainting/DataSet/P...\n",
      "77  /home/lab/PycharmProjects/Inpainting/DataSet/P...\n",
      "57  /home/lab/PycharmProjects/Inpainting/DataSet/P...\n",
      "89  /home/lab/PycharmProjects/Inpainting/DataSet/P...\n",
      "95  /home/lab/PycharmProjects/Inpainting/DataSet/P...\n",
      "6   /home/lab/PycharmProjects/Inpainting/DataSet/P...\n",
      "11  /home/lab/PycharmProjects/Inpainting/DataSet/P...\n",
      "1   /home/lab/PycharmProjects/Inpainting/DataSet/P...\n",
      "8   /home/lab/PycharmProjects/Inpainting/DataSet/P...\n",
      "25  /home/lab/PycharmProjects/Inpainting/DataSet/P...\n",
      "40  /home/lab/PycharmProjects/Inpainting/DataSet/P...\n",
      "13  /home/lab/PycharmProjects/Inpainting/DataSet/P...\n",
      "56  /home/lab/PycharmProjects/Inpainting/DataSet/P...\n",
      "87  /home/lab/PycharmProjects/Inpainting/DataSet/P...\n",
      "22  /home/lab/PycharmProjects/Inpainting/DataSet/P...\n",
      "86  /home/lab/PycharmProjects/Inpainting/DataSet/P...\n",
      "60  /home/lab/PycharmProjects/Inpainting/DataSet/P...\n",
      "37  /home/lab/PycharmProjects/Inpainting/DataSet/P...\n",
      "30  /home/lab/PycharmProjects/Inpainting/DataSet/P...\n",
      "85  /home/lab/PycharmProjects/Inpainting/DataSet/P...\n",
      "83  /home/lab/PycharmProjects/Inpainting/DataSet/P...\n",
      "29  /home/lab/PycharmProjects/Inpainting/DataSet/P...\n",
      "80  /home/lab/PycharmProjects/Inpainting/DataSet/P...\n",
      "..                                                ...\n",
      "23  /home/lab/PycharmProjects/Inpainting/DataSet/P...\n",
      "78  /home/lab/PycharmProjects/Inpainting/DataSet/P...\n",
      "48  /home/lab/PycharmProjects/Inpainting/DataSet/P...\n",
      "35  /home/lab/PycharmProjects/Inpainting/DataSet/P...\n",
      "3   /home/lab/PycharmProjects/Inpainting/DataSet/P...\n",
      "72  /home/lab/PycharmProjects/Inpainting/DataSet/P...\n",
      "39  /home/lab/PycharmProjects/Inpainting/DataSet/P...\n",
      "67  /home/lab/PycharmProjects/Inpainting/DataSet/P...\n",
      "59  /home/lab/PycharmProjects/Inpainting/DataSet/P...\n",
      "43  /home/lab/PycharmProjects/Inpainting/DataSet/P...\n",
      "21  /home/lab/PycharmProjects/Inpainting/DataSet/P...\n",
      "12  /home/lab/PycharmProjects/Inpainting/DataSet/P...\n",
      "46  /home/lab/PycharmProjects/Inpainting/DataSet/P...\n",
      "24  /home/lab/PycharmProjects/Inpainting/DataSet/P...\n",
      "65  /home/lab/PycharmProjects/Inpainting/DataSet/P...\n",
      "84  /home/lab/PycharmProjects/Inpainting/DataSet/P...\n",
      "92  /home/lab/PycharmProjects/Inpainting/DataSet/P...\n",
      "70  /home/lab/PycharmProjects/Inpainting/DataSet/P...\n",
      "38  /home/lab/PycharmProjects/Inpainting/DataSet/P...\n",
      "63  /home/lab/PycharmProjects/Inpainting/DataSet/P...\n",
      "16  /home/lab/PycharmProjects/Inpainting/DataSet/P...\n",
      "81  /home/lab/PycharmProjects/Inpainting/DataSet/P...\n",
      "61  /home/lab/PycharmProjects/Inpainting/DataSet/P...\n",
      "90  /home/lab/PycharmProjects/Inpainting/DataSet/P...\n",
      "99  /home/lab/PycharmProjects/Inpainting/DataSet/P...\n",
      "47  /home/lab/PycharmProjects/Inpainting/DataSet/P...\n",
      "53  /home/lab/PycharmProjects/Inpainting/DataSet/P...\n",
      "79  /home/lab/PycharmProjects/Inpainting/DataSet/P...\n",
      "96  /home/lab/PycharmProjects/Inpainting/DataSet/P...\n",
      "4   /home/lab/PycharmProjects/Inpainting/DataSet/P...\n",
      "\n",
      "[100 rows x 1 columns]\n"
     ]
    }
   ],
   "source": [
    "testset = testset.iloc[np.random.permutation(len(testset))]\n",
    "print testset"
   ]
  },
  {
   "cell_type": "code",
   "execution_count": null,
   "metadata": {
    "collapsed": true
   },
   "outputs": [],
   "source": [
    "gpu_options = tf.GPUOptions(per_process_gpu_memory_fraction=0.4)\n",
    "sess = tf.InteractiveSession(config=tf.ConfigProto(gpu_options=gpu_options))"
   ]
  }
 ],
 "metadata": {
  "kernelspec": {
   "display_name": "Python 2",
   "language": "python",
   "name": "python2"
  },
  "language_info": {
   "codemirror_mode": {
    "name": "ipython",
    "version": 2.0
   },
   "file_extension": ".py",
   "mimetype": "text/x-python",
   "name": "python",
   "nbconvert_exporter": "python",
   "pygments_lexer": "ipython2",
   "version": "2.7.6"
  }
 },
 "nbformat": 4,
 "nbformat_minor": 0
}